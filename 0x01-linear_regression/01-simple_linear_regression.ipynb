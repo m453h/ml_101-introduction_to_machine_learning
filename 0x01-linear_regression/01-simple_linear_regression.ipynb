{
 "cells": [
  {
   "cell_type": "markdown",
   "id": "0b0fea6e-d06f-4f76-bd59-7e79bff25f44",
   "metadata": {
    "tags": []
   },
   "source": [
    "# Simple Linear Regression using Python\n",
    "In this notebook we will solve a Simple Linear Regression problem using Python programming language. In order to do this we will use some commonly used libraries for solving machine learning tasks, these includes Pandas, Numpy, Matplotlib and Scikit-learn.\n",
    "\n",
    "## Task:\n",
    "Suppose we are given some data for a company sales in a given year, and we are required to make a prediction of the sales of that company in a given year $x$. The data is illustrated on the table below:\n",
    "\n",
    "| **year** | **sales** |\n",
    "|----------|-----------|\n",
    "| 2005     | 12        |\n",
    "| 2006     | 19        |\n",
    "| 2007     | 29        |\n",
    "| 2008     | 37        |\n",
    "| 2009     | 45        |\n",
    "\n",
    "Our workflow for this task will involve the following:\n",
    "1. Importing Libraries for our task\n",
    "2. Reading the data from the provided file\n",
    "3. Exploring the data \n",
    "4. Splitting the data into training and test sets\n",
    "5. Building the model to fit the training data\n",
    "6. Using the model to make predictions for the test data set \n",
    "7. Evaluating our model performance\n",
    "\n",
    "### Step 1: Importing Libraries for our task\n",
    "We shall start the process by importing the necessary libraries which are:\n",
    "- **Pandas:** a fast, powerful, flexible and easy to use open source data analysis and manipulation tool, built on top of the Python programming language.\n",
    "- **Numpy:**  a library for the Python programming language, adding support for large, multi-dimensional arrays and matrices, along with a large collection of high-level mathematical functions to operate n these arrays.\n",
    "- **Matplotlib:** a comprehensive library for creating static, animated, and interactive visualizations in Python.\n",
    "- **Scikit-learn:** an open source data analysis library, and the gold standard for Machine Learning (ML) in the Python ecosystem.\n"
   ]
  },
  {
   "cell_type": "code",
   "execution_count": 10,
   "id": "635b37a1-b181-4f8f-b08c-ed0aa2acea6a",
   "metadata": {},
   "outputs": [],
   "source": [
    "import pandas as pd\n",
    "from matplotlib import pyplot as plt\n",
    "import numpy as np\n",
    "\n",
    "from sklearn.linear_model import LinearRegression\n",
    "from sklearn.model_selection import train_test_split\n",
    "from sklearn.metrics import mean_squared_error, r2_score"
   ]
  },
  {
   "cell_type": "markdown",
   "id": "b344354f-02af-4277-b4a6-622e0c8df5f0",
   "metadata": {},
   "source": [
    "### 2. Reading the data from the provided file\n",
    "Since the data is in a CSV format, we are going to read this file using the pandas's read_csv method"
   ]
  },
  {
   "cell_type": "code",
   "execution_count": 11,
   "id": "6566a532-87fd-4d8b-a472-e55860eeebf4",
   "metadata": {},
   "outputs": [],
   "source": [
    "df = pd.read_csv('dataset/01-sales_dataset.csv')"
   ]
  },
  {
   "cell_type": "markdown",
   "id": "351d272b-6bd5-4c44-b695-b47d871d114f",
   "metadata": {},
   "source": [
    "### 3. Exploring the data \n",
    "Let us explore the data by examining it's shape, summary on its continuous variables.\n",
    "\n",
    "We shall start by using the **shape** attribute of our data which outputs just a tuple of (rows,\n",
    "columns)"
   ]
  },
  {
   "cell_type": "code",
   "execution_count": 12,
   "id": "71109aa1-8a2a-4069-b69d-76b4d32d28f4",
   "metadata": {},
   "outputs": [
    {
     "data": {
      "text/plain": [
       "(5, 2)"
      ]
     },
     "execution_count": 12,
     "metadata": {},
     "output_type": "execute_result"
    }
   ],
   "source": [
    "df.shape"
   ]
  },
  {
   "cell_type": "markdown",
   "id": "1a095ba1-5cd9-4159-93e3-0364bce246cf",
   "metadata": {},
   "source": [
    "Then we shall view the first few records present in our dataset using the **head()** method"
   ]
  },
  {
   "cell_type": "code",
   "execution_count": 13,
   "id": "64120769-2291-4098-97e8-e2d22fee12a9",
   "metadata": {},
   "outputs": [
    {
     "data": {
      "text/html": [
       "<div>\n",
       "<style scoped>\n",
       "    .dataframe tbody tr th:only-of-type {\n",
       "        vertical-align: middle;\n",
       "    }\n",
       "\n",
       "    .dataframe tbody tr th {\n",
       "        vertical-align: top;\n",
       "    }\n",
       "\n",
       "    .dataframe thead th {\n",
       "        text-align: right;\n",
       "    }\n",
       "</style>\n",
       "<table border=\"1\" class=\"dataframe\">\n",
       "  <thead>\n",
       "    <tr style=\"text-align: right;\">\n",
       "      <th></th>\n",
       "      <th>year</th>\n",
       "      <th>sales</th>\n",
       "    </tr>\n",
       "  </thead>\n",
       "  <tbody>\n",
       "    <tr>\n",
       "      <th>0</th>\n",
       "      <td>2005</td>\n",
       "      <td>12</td>\n",
       "    </tr>\n",
       "    <tr>\n",
       "      <th>1</th>\n",
       "      <td>2006</td>\n",
       "      <td>19</td>\n",
       "    </tr>\n",
       "    <tr>\n",
       "      <th>2</th>\n",
       "      <td>2007</td>\n",
       "      <td>29</td>\n",
       "    </tr>\n",
       "    <tr>\n",
       "      <th>3</th>\n",
       "      <td>2008</td>\n",
       "      <td>37</td>\n",
       "    </tr>\n",
       "    <tr>\n",
       "      <th>4</th>\n",
       "      <td>2009</td>\n",
       "      <td>45</td>\n",
       "    </tr>\n",
       "  </tbody>\n",
       "</table>\n",
       "</div>"
      ],
      "text/plain": [
       "   year  sales\n",
       "0  2005     12\n",
       "1  2006     19\n",
       "2  2007     29\n",
       "3  2008     37\n",
       "4  2009     45"
      ]
     },
     "execution_count": 13,
     "metadata": {},
     "output_type": "execute_result"
    }
   ],
   "source": [
    "df.head()"
   ]
  },
  {
   "cell_type": "markdown",
   "id": "8273a357-ec99-4ef1-bcdc-6c4ce074c46d",
   "metadata": {},
   "source": [
    "Then we shall describe the data using the **describe()** method to get the summary of continuous variables"
   ]
  },
  {
   "cell_type": "code",
   "execution_count": 14,
   "id": "198c13bf-c9b0-4f33-af08-d75028bd6d38",
   "metadata": {},
   "outputs": [
    {
     "data": {
      "text/html": [
       "<div>\n",
       "<style scoped>\n",
       "    .dataframe tbody tr th:only-of-type {\n",
       "        vertical-align: middle;\n",
       "    }\n",
       "\n",
       "    .dataframe tbody tr th {\n",
       "        vertical-align: top;\n",
       "    }\n",
       "\n",
       "    .dataframe thead th {\n",
       "        text-align: right;\n",
       "    }\n",
       "</style>\n",
       "<table border=\"1\" class=\"dataframe\">\n",
       "  <thead>\n",
       "    <tr style=\"text-align: right;\">\n",
       "      <th></th>\n",
       "      <th>year</th>\n",
       "      <th>sales</th>\n",
       "    </tr>\n",
       "  </thead>\n",
       "  <tbody>\n",
       "    <tr>\n",
       "      <th>count</th>\n",
       "      <td>5.000000</td>\n",
       "      <td>5.000000</td>\n",
       "    </tr>\n",
       "    <tr>\n",
       "      <th>mean</th>\n",
       "      <td>2007.000000</td>\n",
       "      <td>28.400000</td>\n",
       "    </tr>\n",
       "    <tr>\n",
       "      <th>std</th>\n",
       "      <td>1.581139</td>\n",
       "      <td>13.296616</td>\n",
       "    </tr>\n",
       "    <tr>\n",
       "      <th>min</th>\n",
       "      <td>2005.000000</td>\n",
       "      <td>12.000000</td>\n",
       "    </tr>\n",
       "    <tr>\n",
       "      <th>25%</th>\n",
       "      <td>2006.000000</td>\n",
       "      <td>19.000000</td>\n",
       "    </tr>\n",
       "    <tr>\n",
       "      <th>50%</th>\n",
       "      <td>2007.000000</td>\n",
       "      <td>29.000000</td>\n",
       "    </tr>\n",
       "    <tr>\n",
       "      <th>75%</th>\n",
       "      <td>2008.000000</td>\n",
       "      <td>37.000000</td>\n",
       "    </tr>\n",
       "    <tr>\n",
       "      <th>max</th>\n",
       "      <td>2009.000000</td>\n",
       "      <td>45.000000</td>\n",
       "    </tr>\n",
       "  </tbody>\n",
       "</table>\n",
       "</div>"
      ],
      "text/plain": [
       "              year      sales\n",
       "count     5.000000   5.000000\n",
       "mean   2007.000000  28.400000\n",
       "std       1.581139  13.296616\n",
       "min    2005.000000  12.000000\n",
       "25%    2006.000000  19.000000\n",
       "50%    2007.000000  29.000000\n",
       "75%    2008.000000  37.000000\n",
       "max    2009.000000  45.000000"
      ]
     },
     "execution_count": 14,
     "metadata": {},
     "output_type": "execute_result"
    }
   ],
   "source": [
    "df.describe()"
   ]
  },
  {
   "cell_type": "markdown",
   "id": "e9aabecc-bd1b-459c-9265-5e6aff368bea",
   "metadata": {},
   "source": [
    "We are starting to get more comfortable with our dataset, we can plot the data to see how it looks like, for this we are going to use the Pandas DataFrame plot method, to atleast see if there is any correlation between the Year and Sales."
   ]
  },
  {
   "cell_type": "code",
   "execution_count": 15,
   "id": "638d4f5f-7d77-42b2-bc23-5c04477664cd",
   "metadata": {},
   "outputs": [
    {
     "data": {
      "image/png": "[encoded data removed]",
      "text/plain": [
       "<Figure size 640x480 with 1 Axes>"
      ]
     },
     "metadata": {},
     "output_type": "display_data"
    }
   ],
   "source": [
    "df.plot(x='year', y='sales', style='o')\n",
    "plt.title('YEAR VS SALES')\n",
    "plt.xticks(np.arange(min(df['year']), max(df['year'])+1, 1.0))\n",
    "plt.xlabel('Year')\n",
    "plt.ylabel('Sales')\n",
    "plt.show()"
   ]
  },
  {
   "cell_type": "markdown",
   "id": "dce7d694-250c-43f2-b115-445f4f217def",
   "metadata": {
    "tags": []
   },
   "source": [
    "### 4. Splitting the data into training and test sets\n",
    "We are going to split our data into training and test sets using the **train_test_split()** function we've imported from the Scikit-Learn library. We will start by slicing our data to obtain features input ($x$) and label ($y$). In other words features are the independent variables while labels are dependent variables whose values are to be predicted. \n",
    "\n",
    "In our dataset we only have two columns. We want to predict the company sales depending upon the year. Therefore our features set will consist of the “Year” column, and the label will be the “Sales” column.\n",
    "\n",
    "\n",
    "The features are stored in the $X$ variable, we specified “-1” as the range for columns since we wanted our feature set to contain all the columns except the last one, which is “Sales”.\n",
    "\n",
    "Similarly the $y$ variable contains the labels. We specified “1” for the label column since the index for “Sales” column is 1.\n",
    "\n",
    "\n",
    "Then we input these two variables to the **train_test_split()** function.\n",
    "\n",
    "Take note of the test_size parameter and random_state parameter used in the function call."
   ]
  },
  {
   "cell_type": "code",
   "execution_count": 16,
   "id": "2b1d30db-3e92-49f9-b871-4810eb1dfd9e",
   "metadata": {},
   "outputs": [],
   "source": [
    "X = df.iloc[:, :-1].values\n",
    "y = df.iloc[:, 1].values"
   ]
  },
  {
   "cell_type": "code",
   "execution_count": 17,
   "id": "e3fd3aac-cefb-4afc-b548-3bae3d22dc97",
   "metadata": {},
   "outputs": [],
   "source": [
    "X_train,X_test,y_train,y_test = train_test_split(X,y,test_size=0.25,random_state=42)"
   ]
  },
  {
   "cell_type": "markdown",
   "id": "cd28619f-a455-4869-b17a-1be3b791d266",
   "metadata": {},
   "source": [
    "### 5. Building the model to fit the training data\n",
    "We are going to fit our model to the training data by using the LinearRegression() module we've imported from the Scikit-learn"
   ]
  },
  {
   "cell_type": "code",
   "execution_count": 18,
   "id": "a6c3c8c4-0d54-4b24-b4e7-397c2b160c87",
   "metadata": {},
   "outputs": [
    {
     "data": {
      "text/html": [
       "<style>#sk-container-id-1 {color: black;background-color: white;}#sk-container-id-1 pre{padding: 0;}#sk-container-id-1 div.sk-toggleable {background-color: white;}#sk-container-id-1 label.sk-toggleable__label {cursor: pointer;display: block;width: 100%;margin-bottom: 0;padding: 0.3em;box-sizing: border-box;text-align: center;}#sk-container-id-1 label.sk-toggleable__label-arrow:before {content: \"▸\";float: left;margin-right: 0.25em;color: #696969;}#sk-container-id-1 label.sk-toggleable__label-arrow:hover:before {color: black;}#sk-container-id-1 div.sk-estimator:hover label.sk-toggleable__label-arrow:before {color: black;}#sk-container-id-1 div.sk-toggleable__content {max-height: 0;max-width: 0;overflow: hidden;text-align: left;background-color: #f0f8ff;}#sk-container-id-1 div.sk-toggleable__content pre {margin: 0.2em;color: black;border-radius: 0.25em;background-color: #f0f8ff;}#sk-container-id-1 input.sk-toggleable__control:checked~div.sk-toggleable__content {max-height: 200px;max-width: 100%;overflow: auto;}#sk-container-id-1 input.sk-toggleable__control:checked~label.sk-toggleable__label-arrow:before {content: \"▾\";}#sk-container-id-1 div.sk-estimator input.sk-toggleable__control:checked~label.sk-toggleable__label {background-color: #d4ebff;}#sk-container-id-1 div.sk-label input.sk-toggleable__control:checked~label.sk-toggleable__label {background-color: #d4ebff;}#sk-container-id-1 input.sk-hidden--visually {border: 0;clip: rect(1px 1px 1px 1px);clip: rect(1px, 1px, 1px, 1px);height: 1px;margin: -1px;overflow: hidden;padding: 0;position: absolute;width: 1px;}#sk-container-id-1 div.sk-estimator {font-family: monospace;background-color: #f0f8ff;border: 1px dotted black;border-radius: 0.25em;box-sizing: border-box;margin-bottom: 0.5em;}#sk-container-id-1 div.sk-estimator:hover {background-color: #d4ebff;}#sk-container-id-1 div.sk-parallel-item::after {content: \"\";width: 100%;border-bottom: 1px solid gray;flex-grow: 1;}#sk-container-id-1 div.sk-label:hover label.sk-toggleable__label {background-color: #d4ebff;}#sk-container-id-1 div.sk-serial::before {content: \"\";position: absolute;border-left: 1px solid gray;box-sizing: border-box;top: 0;bottom: 0;left: 50%;z-index: 0;}#sk-container-id-1 div.sk-serial {display: flex;flex-direction: column;align-items: center;background-color: white;padding-right: 0.2em;padding-left: 0.2em;position: relative;}#sk-container-id-1 div.sk-item {position: relative;z-index: 1;}#sk-container-id-1 div.sk-parallel {display: flex;align-items: stretch;justify-content: center;background-color: white;position: relative;}#sk-container-id-1 div.sk-item::before, #sk-container-id-1 div.sk-parallel-item::before {content: \"\";position: absolute;border-left: 1px solid gray;box-sizing: border-box;top: 0;bottom: 0;left: 50%;z-index: -1;}#sk-container-id-1 div.sk-parallel-item {display: flex;flex-direction: column;z-index: 1;position: relative;background-color: white;}#sk-container-id-1 div.sk-parallel-item:first-child::after {align-self: flex-end;width: 50%;}#sk-container-id-1 div.sk-parallel-item:last-child::after {align-self: flex-start;width: 50%;}#sk-container-id-1 div.sk-parallel-item:only-child::after {width: 0;}#sk-container-id-1 div.sk-dashed-wrapped {border: 1px dashed gray;margin: 0 0.4em 0.5em 0.4em;box-sizing: border-box;padding-bottom: 0.4em;background-color: white;}#sk-container-id-1 div.sk-label label {font-family: monospace;font-weight: bold;display: inline-block;line-height: 1.2em;}#sk-container-id-1 div.sk-label-container {text-align: center;}#sk-container-id-1 div.sk-container {/* jupyter's `normalize.less` sets `[hidden] { display: none; }` but bootstrap.min.css set `[hidden] { display: none !important; }` so we also need the `!important` here to be able to override the default hidden behavior on the sphinx rendered scikit-learn.org. See: https://github.com/scikit-learn/scikit-learn/issues/21755 */display: inline-block !important;position: relative;}#sk-container-id-1 div.sk-text-repr-fallback {display: none;}</style><div id=\"sk-container-id-1\" class=\"sk-top-container\"><div class=\"sk-text-repr-fallback\"><pre>LinearRegression()</pre><b>In a Jupyter environment, please rerun this cell to show the HTML representation or trust the notebook. <br />On GitHub, the HTML representation is unable to render, please try loading this page with nbviewer.org.</b></div><div class=\"sk-container\" hidden><div class=\"sk-item\"><div class=\"sk-estimator sk-toggleable\"><input class=\"sk-toggleable__control sk-hidden--visually\" id=\"sk-estimator-id-1\" type=\"checkbox\" checked><label for=\"sk-estimator-id-1\" class=\"sk-toggleable__label sk-toggleable__label-arrow\">LinearRegression</label><div class=\"sk-toggleable__content\"><pre>LinearRegression()</pre></div></div></div></div></div>"
      ],
      "text/plain": [
       "LinearRegression()"
      ]
     },
     "execution_count": 18,
     "metadata": {},
     "output_type": "execute_result"
    }
   ],
   "source": [
    "model = LinearRegression()\n",
    "model.fit(X_train,y_train)"
   ]
  },
  {
   "cell_type": "markdown",
   "id": "ecee5e01-b6c3-4dee-aaee-7c14f5567b05",
   "metadata": {},
   "source": [
    "### 6. Using the model to make predictions for the test data set \n",
    "After fitting the model we can use it to make some predictions on the test data, this will be usefull during the evaluation phase of our model. \n",
    "\n",
    "We can also display the model's parameters i.e. $w$ and $b$ thus formulate the equation representing our model:\n",
    "$f_{w,b}(x) = wx + b$"
   ]
  },
  {
   "cell_type": "code",
   "execution_count": 19,
   "id": "1a13060a-57c2-4ed7-afca-1761f4bce3ae",
   "metadata": {},
   "outputs": [],
   "source": [
    "y_pred = model.predict(X_test)"
   ]
  },
  {
   "cell_type": "code",
   "execution_count": 20,
   "id": "5e04d93b-bd16-4c9f-9582-c01978b1abfe",
   "metadata": {},
   "outputs": [
    {
     "name": "stdout",
     "output_type": "stream",
     "text": [
      "b = -16744.0\n",
      "w = [8.35714286]\n"
     ]
    }
   ],
   "source": [
    "print(f'b = {model.intercept_}')\n",
    "print(f'w = {model.coef_}')"
   ]
  },
  {
   "cell_type": "markdown",
   "id": "bc7db4cb-d6a9-4f34-9691-bca3ee5b9d5a",
   "metadata": {},
   "source": [
    "Thus the equation of our model equation becomes:\n",
    "\n",
    "$f(x) = 8.36x-1.67$"
   ]
  },
  {
   "cell_type": "markdown",
   "id": "02737a30-9c52-40ab-932d-4419acb77867",
   "metadata": {},
   "source": [
    "We can plot this model equation on a scatter plot in order to visualize how well it fits our dataset. This can be one of the first steps towards evaluating the performance of our model.\n",
    "\n",
    "In order to create this plot, we are going to use our model to make predictions for all the $X$ (features) in our dataset, and then we will plot this in the canvas containing the scatter plot for our dataset."
   ]
  },
  {
   "cell_type": "code",
   "execution_count": 21,
   "id": "920d91f0-5256-4f96-b213-423e6027251b",
   "metadata": {},
   "outputs": [
    {
     "data": {
      "text/plain": [
       "Text(0, 0.5, 'Sales')"
      ]
     },
     "execution_count": 21,
     "metadata": {},
     "output_type": "execute_result"
    },
    {
     "data": {
      "image/png": "[encoded data removed]",
      "text/plain": [
       "<Figure size 1200x600 with 1 Axes>"
      ]
     },
     "metadata": {},
     "output_type": "display_data"
    }
   ],
   "source": [
    "all_y_pred = model.predict(X)\n",
    "plt.figure(figsize=(12, 6))\n",
    "plt.plot(X, all_y_pred) # Regression line\n",
    "plt.plot(X, y, 'ro') # Scatter plot showing actual data\n",
    "plt.title('Actual vs Predicted')\n",
    "plt.xticks(np.arange(min(X), max(X)+1, 1.0))\n",
    "plt.xlabel('Years')\n",
    "plt.ylabel('Sales')"
   ]
  },
  {
   "cell_type": "markdown",
   "id": "ac761937-1f38-45a9-9e6a-421643b3d925",
   "metadata": {},
   "source": [
    "### 7. Evaluating our model performance\n",
    "We can  evaluate our model by displaying some important metrics. In this case we will  use the **Mean Squared Error** and **Coefficient of determination**. \n",
    "\n",
    "This is done by importing the **mean_squared_error** and **r2_score** functions from the **sklearn.metrics** module of the Scikit-Learn library.\n",
    "\n",
    "#### The Coefficent of determination $(R^2)$\n",
    "This measures how well a statistical model predicts an outcome. The outcome is represented by the model’s dependent variable.\n",
    "\n",
    "The lowest possible value of $(R^2)$ is 0 and the highest possible value is 1. \n",
    "\n",
    "Put simply, the better a model is at making predictions, the closer its $(R^2)$ will be to 1.\n",
    "\n",
    "#### Mean square error (MSE) \n",
    "\n",
    "This measures the amount of error in statistical models. It assesses the average squared difference between the observed and predicted values.\n",
    "\n",
    "When a model has no error, the MSE equals zero, as model error increases, its value increases.\n",
    "\n",
    "The mean squared error is also known as the mean squared deviation (MSD).\n"
   ]
  },
  {
   "cell_type": "code",
   "execution_count": 22,
   "id": "599b0a49-763e-4122-b9f5-be561935abe5",
   "metadata": {},
   "outputs": [
    {
     "name": "stdout",
     "output_type": "stream",
     "text": [
      "Mean squared error: 1.15\n",
      "Coefficient of determination: 0.99\n"
     ]
    }
   ],
   "source": [
    "print(\"Mean squared error: %.2f\" % mean_squared_error(y_test, y_pred))\n",
    "# The coefficient of determination: 1 is perfect prediction\n",
    "print(\"Coefficient of determination: %.2f\" % r2_score(y_test, y_pred))"
   ]
  },
  {
   "cell_type": "markdown",
   "id": "6e730b3a-8c01-4022-80a7-f787e7bf0a52",
   "metadata": {},
   "source": [
    "## Task:\n",
    "\n",
    "![alt text](img/restaurant_kfc.jpg \"Restaurant\")\n",
    "\n",
    "Suppose you are the CEO of a restaurant franchise and are considering different cities for opening a new outlet. The chain already has restaurants in various cities and you have data for profits and populations from the cities. You would like to use this data to help you select which city to expand to next.\n",
    "\n",
    "The dataset is contained in the file **dataset/01-profits_and_populations.csv**. The first column is the population of a city and the second column is the profit of a food truck in that city (a negative value for profit indicates a loss). \n",
    "\n",
    "Create a model that will project the profits of establishing a restaurant in a given restaurant in a city with a given population to help you in the decision making process."
   ]
  },
  {
   "cell_type": "code",
   "execution_count": null,
   "id": "42c32253-fac5-4c14-a123-0ff2cb547b94",
   "metadata": {},
   "outputs": [],
   "source": []
  }
 ],
 "metadata": {
  "kernelspec": {
   "display_name": "Python 3 (ipykernel)",
   "language": "python",
   "name": "python3"
  },
  "language_info": {
   "codemirror_mode": {
    "name": "ipython",
    "version": 3
   },
   "file_extension": ".py",
   "mimetype": "text/x-python",
   "name": "python",
   "nbconvert_exporter": "python",
   "pygments_lexer": "ipython3",
   "version": "3.8.10"
  }
 },
 "nbformat": 4,
 "nbformat_minor": 5
}
