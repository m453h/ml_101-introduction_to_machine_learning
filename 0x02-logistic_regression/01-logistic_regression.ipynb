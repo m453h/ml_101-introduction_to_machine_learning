{
 "cells": [
  {
   "cell_type": "markdown",
   "id": "0b0fea6e-d06f-4f76-bd59-7e79bff25f44",
   "metadata": {
    "tags": []
   },
   "source": [
    "# Logistic Regression\n",
    "In this notebook we will solve a classification problem using Python programming language. In order to do this we will use some commonly used libraries for solving machine learning tasks, these includes Pandas, Numpy, Matplotlib and Scikit-learn.\n",
    "\n",
    "## Task 1:\n",
    "\n",
    "The objective of this task is to build a model that predicts whether an individual has Diabetes or not based several medical predictors contained in the **dataset/pima.csv** file. The datasets consists of several medical predictor variables and one target variable, Outcome. Predictor variables includes the number of pregnancies the patient has had, their BMI, insulin level, age, and so on. The explanation of the predictor variables is as follows:\n",
    "- **Pregnancies:** Number of times pregnant\n",
    "- **Glucose:** Plasma glucose concentration a 2 hours in an oral glucose tolerance test\n",
    "- **BloodPressure:** Diastolic blood pressure (mm Hg)\n",
    "- **SkinThickness:** Triceps skin fold thickness (mm)\n",
    "- **Insulin:** 2-Hour serum insulin (mu U/ml)\n",
    "- **BMI:** Body mass index (weight in kg/(height in m)^2)\n",
    "- **DiabetesPedigreeFunction:** Diabetes pedigree function\n",
    "- **Age:** Age (years)\n",
    "- **Outcome:** Class variable (0 or 1)\n",
    "\n",
    "\n",
    "\n",
    "\n",
    "Our workflow for this task will involve the following:\n",
    "1. Importing Libraries for our task\n",
    "2. Reading the data from the provided file\n",
    "3. Exploring the data \n",
    "4. Preprocessing the data and Splitting the data into training and test sets\n",
    "5. Building the model to fit the training data\n",
    "6. Using the model to make predictions for the test data set \n",
    "7. Evaluating our model performance\n",
    "\n",
    "### Step 1: Importing Libraries for our task\n",
    "We shall start the process by importing the necessary libraries which are:\n",
    "- **Pandas:** a fast, powerful, flexible and easy to use open source data analysis and manipulation tool, built on top of the Python programming language.\n",
    "- **Numpy:**  a library for the Python programming language, adding support for large, multi-dimensional arrays and matrices, along with a large collection of high-level mathematical functions to operate n these arrays.\n",
    "- **Matplotlib:** a comprehensive library for creating static, animated, and interactive visualizations in Python.\n",
    "- **Scikit-learn:** an open source data analysis library, and the gold standard for Machine Learning (ML) in the Python ecosystem.\n"
   ]
  },
  {
   "cell_type": "code",
   "execution_count": 676,
   "id": "635b37a1-b181-4f8f-b08c-ed0aa2acea6a",
   "metadata": {},
   "outputs": [],
   "source": [
    "import pandas as pd\n",
    "from matplotlib import pyplot as plt\n",
    "import numpy as np\n",
    "\n",
    "from sklearn.linear_model import LogisticRegression\n",
    "from sklearn.model_selection import train_test_split\n",
    "from sklearn.impute import SimpleImputer"
   ]
  },
  {
   "cell_type": "markdown",
   "id": "b344354f-02af-4277-b4a6-622e0c8df5f0",
   "metadata": {},
   "source": [
    "### 2. Reading the data from the provided file\n",
    "Since the data is in a CSV format, we are going to read this file using the pandas's read_csv method"
   ]
  },
  {
   "cell_type": "code",
   "execution_count": 677,
   "id": "6566a532-87fd-4d8b-a472-e55860eeebf4",
   "metadata": {},
   "outputs": [],
   "source": [
    "df = pd.read_csv('dataset/01-pima-diabetes.csv')"
   ]
  },
  {
   "cell_type": "markdown",
   "id": "351d272b-6bd5-4c44-b695-b47d871d114f",
   "metadata": {},
   "source": [
    "### 3. Exploring the data \n",
    "Let us explore the data by examining it's shape, summary on its continuous variables.\n",
    "\n",
    "We shall start by using the **shape** attribute of our data which outputs just a tuple of (rows,\n",
    "columns)"
   ]
  },
  {
   "cell_type": "code",
   "execution_count": 678,
   "id": "71109aa1-8a2a-4069-b69d-76b4d32d28f4",
   "metadata": {},
   "outputs": [
    {
     "data": {
      "text/plain": [
       "(768, 9)"
      ]
     },
     "execution_count": 678,
     "metadata": {},
     "output_type": "execute_result"
    }
   ],
   "source": [
    "df.shape"
   ]
  },
  {
   "cell_type": "markdown",
   "id": "e9aabecc-bd1b-459c-9265-5e6aff368bea",
   "metadata": {},
   "source": [
    "We are starting to get more comfortable with our dataset, let us look at the distribution of our classes (those with diabetes and those without diabetes)"
   ]
  },
  {
   "cell_type": "code",
   "execution_count": 679,
   "id": "3a354e52-4106-4708-834c-659803093e11",
   "metadata": {},
   "outputs": [
    {
     "name": "stdout",
     "output_type": "stream",
     "text": [
      "No. of people without diabetes:  500\n",
      "No. of people with diabetes :  268\n",
      "Percent of people with diabetes :  34.9 %\n"
     ]
    }
   ],
   "source": [
    "people_with_diabetes = df[\"Outcome\"].value_counts()[1]\n",
    "people_without_diabetes = df[\"Outcome\"].value_counts()[0]\n",
    "print(\"No. of people without diabetes: \", people_without_diabetes)\n",
    "print(\"No. of people with diabetes : \", people_with_diabetes)\n",
    "print(\"Percent of people with diabetes : \",round(people_with_diabetes/(people_with_diabetes+people_without_diabetes)*100,2), \"%\")"
   ]
  },
  {
   "cell_type": "code",
   "execution_count": 680,
   "id": "ca747248-2bf1-4552-b7bd-f5b19cfe758b",
   "metadata": {},
   "outputs": [
    {
     "data": {
      "image/png": "[encoded data removed]",
      "text/plain": [
       "<Figure size 432x288 with 1 Axes>"
      ]
     },
     "metadata": {},
     "output_type": "display_data"
    }
   ],
   "source": [
    "fig = plt.figure()\n",
    "ax = fig.add_subplot(111)\n",
    "ax.set_ylabel('Count',fontsize=14,fontweight='bold')\n",
    "ax.set_xlabel('Outcome',fontsize=14,fontweight='bold')\n",
    "ax.set_title('Outcome Vs Count',fontsize=18, fontweight='bold')\n",
    "outcomes = ['0', '1']\n",
    "count = [people_without_diabetes,people_with_diabetes]\n",
    "ax.bar(outcomes,count,color=[\"green\",\"red\"])\n",
    "plt.show()"
   ]
  },
  {
   "cell_type": "markdown",
   "id": "07674c75-8fa7-4cde-bc80-ac28d5ca3248",
   "metadata": {},
   "source": [
    "We can see that the ratio of Outcomes  0:1 is 65% : 35% (which is not bad and acceptable). \n",
    "Though we can use **Stratified sampling** during our train-test-split exercise to handle the class imbalance."
   ]
  },
  {
   "cell_type": "markdown",
   "id": "dce7d694-250c-43f2-b115-445f4f217def",
   "metadata": {
    "tags": []
   },
   "source": [
    "### 4. Preprocessing the data and Splitting the data into training and test sets\n",
    "Let us check '0s' in some of the features and impute them. We will exclude \"Pregnancies\" column from this imputation since '0' pregnancies is a valid information. i.e. 0 value for Blood pressure, BMI, Insulin etc. indicate that there is problem in the data that needs to be addressed."
   ]
  },
  {
   "cell_type": "code",
   "execution_count": 681,
   "id": "0f090f38-3892-48ae-bc6a-706157744492",
   "metadata": {},
   "outputs": [],
   "source": [
    "feature_columns = ['Pregnancies','Glucose', 'BloodPressure', 'SkinThickness', 'Insulin', 'BMI', 'DiabetesPedigreeFunction', 'Age']"
   ]
  },
  {
   "cell_type": "markdown",
   "id": "8362fb88-7b30-430f-8fae-5ac519a4fcb9",
   "metadata": {},
   "source": [
    "We are going to replace the '0s' with null (NaN), this will make it easy to fill the missing values"
   ]
  },
  {
   "cell_type": "code",
   "execution_count": 682,
   "id": "f5344a6e-76f6-4e2a-b9ac-79bf03273e27",
   "metadata": {},
   "outputs": [],
   "source": [
    "df[feature_columns[1:]] = df[feature_columns[1:]].replace(to_replace=0, value=np.nan)"
   ]
  },
  {
   "cell_type": "code",
   "execution_count": 683,
   "id": "ff2536fd-84f4-47e1-a541-34167514ab9d",
   "metadata": {},
   "outputs": [
    {
     "data": {
      "text/html": [
       "<div>\n",
       "<style scoped>\n",
       "    .dataframe tbody tr th:only-of-type {\n",
       "        vertical-align: middle;\n",
       "    }\n",
       "\n",
       "    .dataframe tbody tr th {\n",
       "        vertical-align: top;\n",
       "    }\n",
       "\n",
       "    .dataframe thead th {\n",
       "        text-align: right;\n",
       "    }\n",
       "</style>\n",
       "<table border=\"1\" class=\"dataframe\">\n",
       "  <thead>\n",
       "    <tr style=\"text-align: right;\">\n",
       "      <th></th>\n",
       "      <th>Pregnancies</th>\n",
       "      <th>Glucose</th>\n",
       "      <th>BloodPressure</th>\n",
       "      <th>SkinThickness</th>\n",
       "      <th>Insulin</th>\n",
       "      <th>BMI</th>\n",
       "      <th>DiabetesPedigreeFunction</th>\n",
       "      <th>Age</th>\n",
       "      <th>Outcome</th>\n",
       "    </tr>\n",
       "  </thead>\n",
       "  <tbody>\n",
       "    <tr>\n",
       "      <th>0</th>\n",
       "      <td>6</td>\n",
       "      <td>148.0</td>\n",
       "      <td>72.0</td>\n",
       "      <td>35.0</td>\n",
       "      <td>NaN</td>\n",
       "      <td>33.6</td>\n",
       "      <td>0.627</td>\n",
       "      <td>50</td>\n",
       "      <td>1</td>\n",
       "    </tr>\n",
       "    <tr>\n",
       "      <th>1</th>\n",
       "      <td>1</td>\n",
       "      <td>85.0</td>\n",
       "      <td>66.0</td>\n",
       "      <td>29.0</td>\n",
       "      <td>NaN</td>\n",
       "      <td>26.6</td>\n",
       "      <td>0.351</td>\n",
       "      <td>31</td>\n",
       "      <td>0</td>\n",
       "    </tr>\n",
       "    <tr>\n",
       "      <th>2</th>\n",
       "      <td>8</td>\n",
       "      <td>183.0</td>\n",
       "      <td>64.0</td>\n",
       "      <td>NaN</td>\n",
       "      <td>NaN</td>\n",
       "      <td>23.3</td>\n",
       "      <td>0.672</td>\n",
       "      <td>32</td>\n",
       "      <td>1</td>\n",
       "    </tr>\n",
       "    <tr>\n",
       "      <th>3</th>\n",
       "      <td>1</td>\n",
       "      <td>89.0</td>\n",
       "      <td>66.0</td>\n",
       "      <td>23.0</td>\n",
       "      <td>94.0</td>\n",
       "      <td>28.1</td>\n",
       "      <td>0.167</td>\n",
       "      <td>21</td>\n",
       "      <td>0</td>\n",
       "    </tr>\n",
       "    <tr>\n",
       "      <th>4</th>\n",
       "      <td>0</td>\n",
       "      <td>137.0</td>\n",
       "      <td>40.0</td>\n",
       "      <td>35.0</td>\n",
       "      <td>168.0</td>\n",
       "      <td>43.1</td>\n",
       "      <td>2.288</td>\n",
       "      <td>33</td>\n",
       "      <td>1</td>\n",
       "    </tr>\n",
       "  </tbody>\n",
       "</table>\n",
       "</div>"
      ],
      "text/plain": [
       "   Pregnancies  Glucose  BloodPressure  SkinThickness  Insulin   BMI  \\\n",
       "0            6    148.0           72.0           35.0      NaN  33.6   \n",
       "1            1     85.0           66.0           29.0      NaN  26.6   \n",
       "2            8    183.0           64.0            NaN      NaN  23.3   \n",
       "3            1     89.0           66.0           23.0     94.0  28.1   \n",
       "4            0    137.0           40.0           35.0    168.0  43.1   \n",
       "\n",
       "   DiabetesPedigreeFunction  Age  Outcome  \n",
       "0                     0.627   50        1  \n",
       "1                     0.351   31        0  \n",
       "2                     0.672   32        1  \n",
       "3                     0.167   21        0  \n",
       "4                     2.288   33        1  "
      ]
     },
     "execution_count": 683,
     "metadata": {},
     "output_type": "execute_result"
    }
   ],
   "source": [
    "df.head()"
   ]
  },
  {
   "cell_type": "code",
   "execution_count": 684,
   "id": "e22094ae-ac02-406f-ad2b-cc5513244534",
   "metadata": {},
   "outputs": [
    {
     "name": "stdout",
     "output_type": "stream",
     "text": [
      "Number of missing values in dataframe : \n",
      " Pregnancies                   0\n",
      "Glucose                       5\n",
      "BloodPressure                35\n",
      "SkinThickness               227\n",
      "Insulin                     374\n",
      "BMI                          11\n",
      "DiabetesPedigreeFunction      0\n",
      "Age                           0\n",
      "Outcome                       0\n",
      "dtype: int64\n",
      "-------------------------\n",
      "Percentage of columnwise missing values in dataframe : \n",
      " Pregnancies                  0.00\n",
      "Glucose                      0.65\n",
      "BloodPressure                4.56\n",
      "SkinThickness               29.56\n",
      "Insulin                     48.70\n",
      "BMI                          1.43\n",
      "DiabetesPedigreeFunction     0.00\n",
      "Age                          0.00\n",
      "Outcome                      0.00\n",
      "dtype: float64\n"
     ]
    }
   ],
   "source": [
    "print(\"Number of missing values in dataframe : \\n\", df.isnull().sum())\n",
    "print(\"-------------------------\")\n",
    "print(\"Percentage of columnwise missing values in dataframe : \\n\", round(df.isnull().mean() * 100, 2))"
   ]
  },
  {
   "cell_type": "markdown",
   "id": "be7f8cad-17cf-43ef-9e49-4e2c530108a8",
   "metadata": {},
   "source": [
    "#### 4.1 Data Imputation\n",
    "\n",
    "In order to fill the missing values in our dataset we are going to use a technique called imputation.\n",
    "\n",
    "Imputation in statistics refers to the procedure of using alternative values in place of missing data.\n",
    "\n",
    "Missing information can introduce a significant degree of bias, make processing and analyzing the data more difficult, and reduce efficiency, which are the three main issues it causes.\n",
    "\n",
    "We are going to use the SimpleImputer module from Sklearn (Read more on the link below)\n",
    "\n",
    "https://scikit-learn.org/stable/modules/generated/sklearn.impute.SimpleImputer.html"
   ]
  },
  {
   "cell_type": "code",
   "execution_count": 685,
   "id": "7aeee3ca-e128-4266-bffa-60d4909bb10f",
   "metadata": {},
   "outputs": [
    {
     "data": {
      "text/html": [
       "<div>\n",
       "<style scoped>\n",
       "    .dataframe tbody tr th:only-of-type {\n",
       "        vertical-align: middle;\n",
       "    }\n",
       "\n",
       "    .dataframe tbody tr th {\n",
       "        vertical-align: top;\n",
       "    }\n",
       "\n",
       "    .dataframe thead th {\n",
       "        text-align: right;\n",
       "    }\n",
       "</style>\n",
       "<table border=\"1\" class=\"dataframe\">\n",
       "  <thead>\n",
       "    <tr style=\"text-align: right;\">\n",
       "      <th></th>\n",
       "      <th>Pregnancies</th>\n",
       "      <th>Glucose</th>\n",
       "      <th>BloodPressure</th>\n",
       "      <th>SkinThickness</th>\n",
       "      <th>Insulin</th>\n",
       "      <th>BMI</th>\n",
       "      <th>DiabetesPedigreeFunction</th>\n",
       "      <th>Age</th>\n",
       "      <th>Outcome</th>\n",
       "    </tr>\n",
       "  </thead>\n",
       "  <tbody>\n",
       "    <tr>\n",
       "      <th>0</th>\n",
       "      <td>6.0</td>\n",
       "      <td>148.0</td>\n",
       "      <td>72.0</td>\n",
       "      <td>35.0</td>\n",
       "      <td>125.0</td>\n",
       "      <td>33.6</td>\n",
       "      <td>0.627</td>\n",
       "      <td>50.0</td>\n",
       "      <td>1.0</td>\n",
       "    </tr>\n",
       "    <tr>\n",
       "      <th>1</th>\n",
       "      <td>1.0</td>\n",
       "      <td>85.0</td>\n",
       "      <td>66.0</td>\n",
       "      <td>29.0</td>\n",
       "      <td>125.0</td>\n",
       "      <td>26.6</td>\n",
       "      <td>0.351</td>\n",
       "      <td>31.0</td>\n",
       "      <td>0.0</td>\n",
       "    </tr>\n",
       "    <tr>\n",
       "      <th>2</th>\n",
       "      <td>8.0</td>\n",
       "      <td>183.0</td>\n",
       "      <td>64.0</td>\n",
       "      <td>29.0</td>\n",
       "      <td>125.0</td>\n",
       "      <td>23.3</td>\n",
       "      <td>0.672</td>\n",
       "      <td>32.0</td>\n",
       "      <td>1.0</td>\n",
       "    </tr>\n",
       "    <tr>\n",
       "      <th>3</th>\n",
       "      <td>1.0</td>\n",
       "      <td>89.0</td>\n",
       "      <td>66.0</td>\n",
       "      <td>23.0</td>\n",
       "      <td>94.0</td>\n",
       "      <td>28.1</td>\n",
       "      <td>0.167</td>\n",
       "      <td>21.0</td>\n",
       "      <td>0.0</td>\n",
       "    </tr>\n",
       "    <tr>\n",
       "      <th>4</th>\n",
       "      <td>0.0</td>\n",
       "      <td>137.0</td>\n",
       "      <td>40.0</td>\n",
       "      <td>35.0</td>\n",
       "      <td>168.0</td>\n",
       "      <td>43.1</td>\n",
       "      <td>2.288</td>\n",
       "      <td>33.0</td>\n",
       "      <td>1.0</td>\n",
       "    </tr>\n",
       "  </tbody>\n",
       "</table>\n",
       "</div>"
      ],
      "text/plain": [
       "   Pregnancies  Glucose  BloodPressure  SkinThickness  Insulin   BMI  \\\n",
       "0          6.0    148.0           72.0           35.0    125.0  33.6   \n",
       "1          1.0     85.0           66.0           29.0    125.0  26.6   \n",
       "2          8.0    183.0           64.0           29.0    125.0  23.3   \n",
       "3          1.0     89.0           66.0           23.0     94.0  28.1   \n",
       "4          0.0    137.0           40.0           35.0    168.0  43.1   \n",
       "\n",
       "   DiabetesPedigreeFunction   Age  Outcome  \n",
       "0                     0.627  50.0      1.0  \n",
       "1                     0.351  31.0      0.0  \n",
       "2                     0.672  32.0      1.0  \n",
       "3                     0.167  21.0      0.0  \n",
       "4                     2.288  33.0      1.0  "
      ]
     },
     "execution_count": 685,
     "metadata": {},
     "output_type": "execute_result"
    }
   ],
   "source": [
    "imputer = SimpleImputer(missing_values=np.nan, strategy='median')\n",
    "df_cols = df.columns\n",
    "df = imputer.fit_transform(df)\n",
    "df = pd.DataFrame(df, columns = df_cols)\n",
    "df.head()"
   ]
  },
  {
   "cell_type": "markdown",
   "id": "8b85deb1-4b42-4809-9770-d0ad806973b0",
   "metadata": {},
   "source": [
    "We are going to split our data into training and test sets using the **train_test_split()** function we've imported from the Scikit-Learn library. We will start by slicing our data to obtain features input ($X$) and label ($y$). In other words features are the independent variables while labels are dependent variables whose values are to be predicted. "
   ]
  },
  {
   "cell_type": "code",
   "execution_count": 686,
   "id": "2b1d30db-3e92-49f9-b871-4810eb1dfd9e",
   "metadata": {},
   "outputs": [],
   "source": [
    "X = df[feature_columns]\n",
    "y = df.Outcome"
   ]
  },
  {
   "cell_type": "markdown",
   "id": "aacac360-ed71-4b91-9f1c-a098d1114e29",
   "metadata": {},
   "source": [
    "Our dataset has features of with varying ranges, thus we need to perform feature scaling before we train our model"
   ]
  },
  {
   "cell_type": "code",
   "execution_count": 687,
   "id": "c1fbc316-5cd3-4388-98f0-ed0eb23de8b7",
   "metadata": {},
   "outputs": [
    {
     "data": {
      "text/html": [
       "<div>\n",
       "<style scoped>\n",
       "    .dataframe tbody tr th:only-of-type {\n",
       "        vertical-align: middle;\n",
       "    }\n",
       "\n",
       "    .dataframe tbody tr th {\n",
       "        vertical-align: top;\n",
       "    }\n",
       "\n",
       "    .dataframe thead th {\n",
       "        text-align: right;\n",
       "    }\n",
       "</style>\n",
       "<table border=\"1\" class=\"dataframe\">\n",
       "  <thead>\n",
       "    <tr style=\"text-align: right;\">\n",
       "      <th></th>\n",
       "      <th>Pregnancies</th>\n",
       "      <th>Glucose</th>\n",
       "      <th>BloodPressure</th>\n",
       "      <th>SkinThickness</th>\n",
       "      <th>Insulin</th>\n",
       "      <th>BMI</th>\n",
       "      <th>DiabetesPedigreeFunction</th>\n",
       "      <th>Age</th>\n",
       "    </tr>\n",
       "  </thead>\n",
       "  <tbody>\n",
       "    <tr>\n",
       "      <th>0</th>\n",
       "      <td>0.639947</td>\n",
       "      <td>0.866045</td>\n",
       "      <td>-0.031990</td>\n",
       "      <td>0.670643</td>\n",
       "      <td>-0.181541</td>\n",
       "      <td>0.166619</td>\n",
       "      <td>0.468492</td>\n",
       "      <td>1.425995</td>\n",
       "    </tr>\n",
       "    <tr>\n",
       "      <th>1</th>\n",
       "      <td>-0.844885</td>\n",
       "      <td>-1.205066</td>\n",
       "      <td>-0.528319</td>\n",
       "      <td>-0.012301</td>\n",
       "      <td>-0.181541</td>\n",
       "      <td>-0.852200</td>\n",
       "      <td>-0.365061</td>\n",
       "      <td>-0.190672</td>\n",
       "    </tr>\n",
       "    <tr>\n",
       "      <th>2</th>\n",
       "      <td>1.233880</td>\n",
       "      <td>2.016662</td>\n",
       "      <td>-0.693761</td>\n",
       "      <td>-0.012301</td>\n",
       "      <td>-0.181541</td>\n",
       "      <td>-1.332500</td>\n",
       "      <td>0.604397</td>\n",
       "      <td>-0.105584</td>\n",
       "    </tr>\n",
       "    <tr>\n",
       "      <th>3</th>\n",
       "      <td>-0.844885</td>\n",
       "      <td>-1.073567</td>\n",
       "      <td>-0.528319</td>\n",
       "      <td>-0.695245</td>\n",
       "      <td>-0.540642</td>\n",
       "      <td>-0.633881</td>\n",
       "      <td>-0.920763</td>\n",
       "      <td>-1.041549</td>\n",
       "    </tr>\n",
       "    <tr>\n",
       "      <th>4</th>\n",
       "      <td>-1.141852</td>\n",
       "      <td>0.504422</td>\n",
       "      <td>-2.679076</td>\n",
       "      <td>0.670643</td>\n",
       "      <td>0.316566</td>\n",
       "      <td>1.549303</td>\n",
       "      <td>5.484909</td>\n",
       "      <td>-0.020496</td>\n",
       "    </tr>\n",
       "  </tbody>\n",
       "</table>\n",
       "</div>"
      ],
      "text/plain": [
       "   Pregnancies   Glucose  BloodPressure  SkinThickness   Insulin       BMI  \\\n",
       "0     0.639947  0.866045      -0.031990       0.670643 -0.181541  0.166619   \n",
       "1    -0.844885 -1.205066      -0.528319      -0.012301 -0.181541 -0.852200   \n",
       "2     1.233880  2.016662      -0.693761      -0.012301 -0.181541 -1.332500   \n",
       "3    -0.844885 -1.073567      -0.528319      -0.695245 -0.540642 -0.633881   \n",
       "4    -1.141852  0.504422      -2.679076       0.670643  0.316566  1.549303   \n",
       "\n",
       "   DiabetesPedigreeFunction       Age  \n",
       "0                  0.468492  1.425995  \n",
       "1                 -0.365061 -0.190672  \n",
       "2                  0.604397 -0.105584  \n",
       "3                 -0.920763 -1.041549  \n",
       "4                  5.484909 -0.020496  "
      ]
     },
     "execution_count": 687,
     "metadata": {},
     "output_type": "execute_result"
    }
   ],
   "source": [
    "from sklearn.preprocessing import StandardScaler\n",
    "scaler = StandardScaler().fit(X)\n",
    "X = scaler.transform(X)\n",
    "X = pd.DataFrame(X, columns = feature_columns)\n",
    "X.head()"
   ]
  },
  {
   "cell_type": "code",
   "execution_count": 688,
   "id": "e3fd3aac-cefb-4afc-b548-3bae3d22dc97",
   "metadata": {},
   "outputs": [],
   "source": [
    "X_train, X_test, y_train, y_test = train_test_split(X, y, test_size=0.30, stratify=df[\"Outcome\"], random_state=24)"
   ]
  },
  {
   "cell_type": "markdown",
   "id": "cd28619f-a455-4869-b17a-1be3b791d266",
   "metadata": {},
   "source": [
    "### 5. Building the model to fit the training data\n",
    "We are going to fit our model to the training data by using the LogisticRegression() module we've imported from the Scikit-learn"
   ]
  },
  {
   "cell_type": "code",
   "execution_count": 689,
   "id": "a6c3c8c4-0d54-4b24-b4e7-397c2b160c87",
   "metadata": {},
   "outputs": [
    {
     "data": {
      "text/plain": [
       "LogisticRegression(random_state=16)"
      ]
     },
     "execution_count": 689,
     "metadata": {},
     "output_type": "execute_result"
    }
   ],
   "source": [
    "model = LogisticRegression(random_state=16)\n",
    "model.fit(X_train,y_train)"
   ]
  },
  {
   "cell_type": "markdown",
   "id": "ecee5e01-b6c3-4dee-aaee-7c14f5567b05",
   "metadata": {},
   "source": [
    "### 6. Using the model to make predictions for the test data set \n",
    "After fitting the model we can use it to make some predictions on the test data, this will be usefull during the evaluation phase of our model. "
   ]
  },
  {
   "cell_type": "code",
   "execution_count": 690,
   "id": "1a13060a-57c2-4ed7-afca-1761f4bce3ae",
   "metadata": {},
   "outputs": [],
   "source": [
    "# fit the model with data\n",
    "model.fit(X_train, y_train)\n",
    "y_pred = model.predict(X_test)"
   ]
  },
  {
   "cell_type": "code",
   "execution_count": 691,
   "id": "63988a3b-8592-433c-b377-05666e146cb4",
   "metadata": {},
   "outputs": [
    {
     "data": {
      "text/plain": [
       "array([[126,  24],\n",
       "       [ 32,  49]])"
      ]
     },
     "execution_count": 691,
     "metadata": {},
     "output_type": "execute_result"
    }
   ],
   "source": [
    "# import the metrics class\n",
    "from sklearn import metrics\n",
    "\n",
    "confusion_matrix = metrics.confusion_matrix(y_test, y_pred)\n",
    "confusion_matrix"
   ]
  },
  {
   "cell_type": "code",
   "execution_count": 692,
   "id": "bf14264f-60c8-47b8-9156-7a6ab8f3cad0",
   "metadata": {},
   "outputs": [
    {
     "data": {
      "text/plain": [
       "<module 'seaborn' from '/home/mark/Workspace/Python/jupyter/ENV/lib/python3.8/site-packages/seaborn/__init__.py'>"
      ]
     },
     "execution_count": 692,
     "metadata": {},
     "output_type": "execute_result"
    },
    {
     "data": {
      "image/png": "[encoded data removed]",
      "text/plain": [
       "<Figure size 1080x432 with 2 Axes>"
      ]
     },
     "metadata": {},
     "output_type": "display_data"
    }
   ],
   "source": [
    "import seaborn as sns\n",
    "ylabel = [\"Actual [No Diabetes]\",\"Actual [Yes Diabetes]\"]\n",
    "xlabel = [\"Predicted [No Diabetes]\",\"Predicted [Yes Diabetes]\"]\n",
    "sns.set(font_scale = 1.5)\n",
    "plt.figure(figsize=(15,6))\n",
    "sns.heatmap(confusion_matrix, annot=True, xticklabels = xlabel, yticklabels = ylabel, linecolor='white', linewidths=1, fmt='g')\n",
    "sns"
   ]
  },
  {
   "cell_type": "code",
   "execution_count": 693,
   "id": "58d483f6-c854-42ae-be63-af2f8c9bf7ef",
   "metadata": {},
   "outputs": [
    {
     "data": {
      "text/html": [
       "<div>\n",
       "<style scoped>\n",
       "    .dataframe tbody tr th:only-of-type {\n",
       "        vertical-align: middle;\n",
       "    }\n",
       "\n",
       "    .dataframe tbody tr th {\n",
       "        vertical-align: top;\n",
       "    }\n",
       "\n",
       "    .dataframe thead th {\n",
       "        text-align: right;\n",
       "    }\n",
       "</style>\n",
       "<table border=\"1\" class=\"dataframe\">\n",
       "  <thead>\n",
       "    <tr style=\"text-align: right;\">\n",
       "      <th></th>\n",
       "      <th>Pregnancies</th>\n",
       "      <th>Glucose</th>\n",
       "      <th>BloodPressure</th>\n",
       "      <th>SkinThickness</th>\n",
       "      <th>Insulin</th>\n",
       "      <th>BMI</th>\n",
       "      <th>DiabetesPedigreeFunction</th>\n",
       "      <th>Age</th>\n",
       "    </tr>\n",
       "  </thead>\n",
       "  <tbody>\n",
       "    <tr>\n",
       "      <th>296</th>\n",
       "      <td>-0.547919</td>\n",
       "      <td>0.800295</td>\n",
       "      <td>-0.197433</td>\n",
       "      <td>1.012114</td>\n",
       "      <td>2.540672</td>\n",
       "      <td>-0.648436</td>\n",
       "      <td>-0.407342</td>\n",
       "      <td>-0.360847</td>\n",
       "    </tr>\n",
       "    <tr>\n",
       "      <th>68</th>\n",
       "      <td>-0.844885</td>\n",
       "      <td>-0.876318</td>\n",
       "      <td>-0.528319</td>\n",
       "      <td>-1.833485</td>\n",
       "      <td>-1.189339</td>\n",
       "      <td>-1.871019</td>\n",
       "      <td>-0.416403</td>\n",
       "      <td>-0.701198</td>\n",
       "    </tr>\n",
       "    <tr>\n",
       "      <th>504</th>\n",
       "      <td>-0.250952</td>\n",
       "      <td>-0.843443</td>\n",
       "      <td>0.464339</td>\n",
       "      <td>1.125938</td>\n",
       "      <td>-0.181541</td>\n",
       "      <td>0.705138</td>\n",
       "      <td>-0.706334</td>\n",
       "      <td>0.575118</td>\n",
       "    </tr>\n",
       "    <tr>\n",
       "      <th>272</th>\n",
       "      <td>-0.250952</td>\n",
       "      <td>0.011301</td>\n",
       "      <td>0.464339</td>\n",
       "      <td>-0.012301</td>\n",
       "      <td>-0.181541</td>\n",
       "      <td>-1.376164</td>\n",
       "      <td>-0.658012</td>\n",
       "      <td>0.575118</td>\n",
       "    </tr>\n",
       "    <tr>\n",
       "      <th>707</th>\n",
       "      <td>-0.547919</td>\n",
       "      <td>0.175675</td>\n",
       "      <td>-2.182747</td>\n",
       "      <td>-0.922893</td>\n",
       "      <td>2.251075</td>\n",
       "      <td>0.283056</td>\n",
       "      <td>-0.893582</td>\n",
       "      <td>-0.956462</td>\n",
       "    </tr>\n",
       "    <tr>\n",
       "      <th>...</th>\n",
       "      <td>...</td>\n",
       "      <td>...</td>\n",
       "      <td>...</td>\n",
       "      <td>...</td>\n",
       "      <td>...</td>\n",
       "      <td>...</td>\n",
       "      <td>...</td>\n",
       "      <td>...</td>\n",
       "    </tr>\n",
       "    <tr>\n",
       "      <th>149</th>\n",
       "      <td>-0.547919</td>\n",
       "      <td>-1.040692</td>\n",
       "      <td>-0.197433</td>\n",
       "      <td>-1.378189</td>\n",
       "      <td>-0.181541</td>\n",
       "      <td>-0.750318</td>\n",
       "      <td>-1.168412</td>\n",
       "      <td>-0.956462</td>\n",
       "    </tr>\n",
       "    <tr>\n",
       "      <th>540</th>\n",
       "      <td>1.233880</td>\n",
       "      <td>-0.711944</td>\n",
       "      <td>0.133453</td>\n",
       "      <td>1.239762</td>\n",
       "      <td>0.861009</td>\n",
       "      <td>1.010784</td>\n",
       "      <td>0.571176</td>\n",
       "      <td>0.830381</td>\n",
       "    </tr>\n",
       "    <tr>\n",
       "      <th>368</th>\n",
       "      <td>-0.250952</td>\n",
       "      <td>-1.336565</td>\n",
       "      <td>1.126110</td>\n",
       "      <td>-1.492013</td>\n",
       "      <td>-0.864991</td>\n",
       "      <td>-0.721209</td>\n",
       "      <td>-0.500966</td>\n",
       "      <td>-0.956462</td>\n",
       "    </tr>\n",
       "    <tr>\n",
       "      <th>545</th>\n",
       "      <td>1.233880</td>\n",
       "      <td>2.115286</td>\n",
       "      <td>1.456996</td>\n",
       "      <td>0.670643</td>\n",
       "      <td>0.976848</td>\n",
       "      <td>0.297610</td>\n",
       "      <td>-0.147612</td>\n",
       "      <td>0.319855</td>\n",
       "    </tr>\n",
       "    <tr>\n",
       "      <th>258</th>\n",
       "      <td>-0.844885</td>\n",
       "      <td>2.345409</td>\n",
       "      <td>-1.851862</td>\n",
       "      <td>-1.492013</td>\n",
       "      <td>2.714431</td>\n",
       "      <td>-0.954082</td>\n",
       "      <td>0.553055</td>\n",
       "      <td>-0.786286</td>\n",
       "    </tr>\n",
       "  </tbody>\n",
       "</table>\n",
       "<p>231 rows × 8 columns</p>\n",
       "</div>"
      ],
      "text/plain": [
       "     Pregnancies   Glucose  BloodPressure  SkinThickness   Insulin       BMI  \\\n",
       "296    -0.547919  0.800295      -0.197433       1.012114  2.540672 -0.648436   \n",
       "68     -0.844885 -0.876318      -0.528319      -1.833485 -1.189339 -1.871019   \n",
       "504    -0.250952 -0.843443       0.464339       1.125938 -0.181541  0.705138   \n",
       "272    -0.250952  0.011301       0.464339      -0.012301 -0.181541 -1.376164   \n",
       "707    -0.547919  0.175675      -2.182747      -0.922893  2.251075  0.283056   \n",
       "..           ...       ...            ...            ...       ...       ...   \n",
       "149    -0.547919 -1.040692      -0.197433      -1.378189 -0.181541 -0.750318   \n",
       "540     1.233880 -0.711944       0.133453       1.239762  0.861009  1.010784   \n",
       "368    -0.250952 -1.336565       1.126110      -1.492013 -0.864991 -0.721209   \n",
       "545     1.233880  2.115286       1.456996       0.670643  0.976848  0.297610   \n",
       "258    -0.844885  2.345409      -1.851862      -1.492013  2.714431 -0.954082   \n",
       "\n",
       "     DiabetesPedigreeFunction       Age  \n",
       "296                 -0.407342 -0.360847  \n",
       "68                  -0.416403 -0.701198  \n",
       "504                 -0.706334  0.575118  \n",
       "272                 -0.658012  0.575118  \n",
       "707                 -0.893582 -0.956462  \n",
       "..                        ...       ...  \n",
       "149                 -1.168412 -0.956462  \n",
       "540                  0.571176  0.830381  \n",
       "368                 -0.500966 -0.956462  \n",
       "545                 -0.147612  0.319855  \n",
       "258                  0.553055 -0.786286  \n",
       "\n",
       "[231 rows x 8 columns]"
      ]
     },
     "execution_count": 693,
     "metadata": {},
     "output_type": "execute_result"
    }
   ],
   "source": [
    "X_test"
   ]
  },
  {
   "cell_type": "markdown",
   "id": "6b5bb339-295e-4ca9-be58-e5bd9cfa8268",
   "metadata": {},
   "source": [
    "We can try to make predictions for a new observation, observe how we created the dataframe and used the scaler we previously created for our dataset"
   ]
  },
  {
   "cell_type": "code",
   "execution_count": 694,
   "id": "c2e5a185-8f73-49de-a538-a4a0b7688a97",
   "metadata": {},
   "outputs": [
    {
     "data": {
      "text/plain": [
       "array([0.])"
      ]
     },
     "execution_count": 694,
     "metadata": {},
     "output_type": "execute_result"
    }
   ],
   "source": [
    "data = {\n",
    "'Pregnancies':[1],\n",
    "'Glucose': [109],\n",
    "'BloodPressure':[60],\n",
    "'SkinThickness':[8],\n",
    "'Insulin':[182],\n",
    "'BMI':[25.4],\n",
    "'DiabetesPedigreeFunction':[0.947],\n",
    "'Age':[21]\n",
    "}\n",
    "data = pd.DataFrame(data)\n",
    "data = scaler.transform(data)\n",
    "data = pd.DataFrame(data, columns = feature_columns)\n",
    "model.predict(data)"
   ]
  },
  {
   "cell_type": "code",
   "execution_count": null,
   "id": "f26a360f-d069-44c8-b3ed-909e746bb8ad",
   "metadata": {},
   "outputs": [],
   "source": []
  }
 ],
 "metadata": {
  "kernelspec": {
   "display_name": "Python 3 (ipykernel)",
   "language": "python",
   "name": "python3"
  },
  "language_info": {
   "codemirror_mode": {
    "name": "ipython",
    "version": 3
   },
   "file_extension": ".py",
   "mimetype": "text/x-python",
   "name": "python",
   "nbconvert_exporter": "python",
   "pygments_lexer": "ipython3",
   "version": "3.8.10"
  }
 },
 "nbformat": 4,
 "nbformat_minor": 5
}
